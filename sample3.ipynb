{
 "cells": [
  {
   "cell_type": "code",
   "execution_count": null,
   "id": "573ee77d",
   "metadata": {},
   "outputs": [],
   "source": [
    "import numpy as np\n",
    "import pandas as pd\n",
    "from sklearn.linear_model import Ridge, RidgeCV, Lasso, LassoCV\n",
    "from sklearn.preprocessing import StandardScaler\n",
    "from sklearn.model_selection import train_test_split, RepeatedKFold\n",
    "#import statsmodels.formula.api as smf\n",
    "import statsmodels.api as sm\n",
    "from sklearn.metrics import mean_squared_error\n",
    "import matplotlib.pyplot as plt\n",
    "import seaborn as sns"
   ]
  },
  {
   "cell_type": "code",
   "execution_count": null,
   "id": "3d2b94e9",
   "metadata": {},
   "outputs": [],
   "source": [
    "Credit = pd.read_csv('Credit.csv')\n",
    "#Insurance = pd.read_csv('Insurance.csv')\n",
    "print('Dimension of the data: ' + str(Credit.shape))\n",
    "Credit.head()\n",
    "     "
   ]
  },
  {
   "cell_type": "code",
   "execution_count": null,
   "id": "cd62e08e",
   "metadata": {},
   "outputs": [],
   "source": [
    "Credit_dumms = pd.get_dummies(Credit)\n",
    "y = Credit_dumms['Balance']\n",
    "X = Credit_dumms.drop(['ID', 'Balance'], axis=1)\n",
    "\n",
    "X_train, X_test , y_train, y_test = train_test_split(X, y, test_size=0.3, random_state=1)\n",
    "\n",
    "std_scale = StandardScaler().fit(X_train)\n",
    "X_train_std = std_scale.transform(X_train)\n",
    "X_test_std  = std_scale.transform(X_test)\n",
    "     "
   ]
  },
  {
   "cell_type": "code",
   "execution_count": null,
   "id": "938524d6",
   "metadata": {},
   "outputs": [],
   "source": [
    "X_temp = X_train[['Limit', 'Rating', 'Cards', 'Age', 'Education']]\n",
    "std_scale_temp = StandardScaler().fit(X_temp)\n",
    "X_temp_std = std_scale_temp.transform(X_temp)\n",
    "\n",
    "LMRidge = Ridge(alpha=1.0)\n",
    "print(LMRidge.fit(X_temp, y_train).coef_)\n",
    "print(LMRidge.fit(X_temp_std, y_train).coef_)\n",
    "     "
   ]
  },
  {
   "cell_type": "code",
   "execution_count": null,
   "id": "46d431d9",
   "metadata": {},
   "outputs": [],
   "source": [
    "# model evaluation: coss validation\n",
    "CV10 = RepeatedKFold(n_splits=10, n_repeats=3, random_state=1)\n",
    "LMRidgeCV = RidgeCV(alphas=np.arange(0, 1, 0.01), cv=CV10, scoring='neg_mean_squared_error')\n",
    "LMRidgeCV.fit(X_train_std, y_train)\n",
    "# summarize chosen configuration\n",
    "print('alpha: %f' % LMRidgeCV.alpha_)"
   ]
  },
  {
   "cell_type": "code",
   "execution_count": null,
   "id": "58222d4a",
   "metadata": {},
   "outputs": [],
   "source": [
    "LMRidge = Ridge(alpha = LMRidgeCV.alpha_)\n",
    "LMRidge.fit(X_train_std, y_train)\n",
    "mean_squared_error(y_test, LMRidge.predict(X_test_std))\n",
    "print(LMRidge.coef_)"
   ]
  },
  {
   "cell_type": "code",
   "execution_count": null,
   "id": "7fef1868",
   "metadata": {},
   "outputs": [],
   "source": [
    "lassocv = LassoCV(alphas = np.arange(0, 1, 0.01), cv = CV10, max_iter = 1000)\n",
    "LMLassoCV.fit(X_train_std, y_train)\n",
    "print(LMLassoCV.alpha_)\n",
    "\n",
    "LMLasso = Lasso(max_iter = 10000)\n",
    "LMLasso.set_params(alpha=LMLassoCV.alpha_)\n",
    "LMLasso.fit(X_train_std, y_train)\n",
    "mean_squared_error(y_test, LMLasso.predict(X_test_std))\n",
    "print(LMLasso.coef_)"
   ]
  }
 ],
 "metadata": {
  "kernelspec": {
   "display_name": "Python 3 (ipykernel)",
   "language": "python",
   "name": "python3"
  },
  "language_info": {
   "codemirror_mode": {
    "name": "ipython",
    "version": 3
   },
   "file_extension": ".py",
   "mimetype": "text/x-python",
   "name": "python",
   "nbconvert_exporter": "python",
   "pygments_lexer": "ipython3",
   "version": "3.8.10"
  }
 },
 "nbformat": 4,
 "nbformat_minor": 5
}
