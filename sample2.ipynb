{
 "cells": [
  {
   "cell_type": "code",
   "execution_count": null,
   "id": "80d7616f",
   "metadata": {},
   "outputs": [],
   "source": [
    "import numpy as np\n",
    "import pandas as pd\n",
    "from sklearn.linear_model import LinearRegression\n",
    "from sklearn.metrics import mean_squared_error, r2_score\n",
    "import matplotlib.pyplot as plt\n",
    "import seaborn as sns"
   ]
  },
  {
   "cell_type": "code",
   "execution_count": null,
   "id": "22c27a61",
   "metadata": {},
   "outputs": [],
   "source": [
    "Credit = pd.read_csv('Credit.csv')"
   ]
  },
  {
   "cell_type": "code",
   "execution_count": null,
   "id": "70919dbb",
   "metadata": {},
   "outputs": [],
   "source": [
    "X = Credit[['Income', 'Education']]\n",
    "y = Credit['Balance']\n",
    "reg_2f = LinearRegression().fit(X, y)"
   ]
  },
  {
   "cell_type": "code",
   "execution_count": null,
   "id": "371bf775",
   "metadata": {},
   "outputs": [],
   "source": [
    "\n",
    "print(X.min())\n",
    "print(X.max())"
   ]
  },
  {
   "cell_type": "code",
   "execution_count": null,
   "id": "f44e89c1",
   "metadata": {},
   "outputs": [],
   "source": [
    "x1 = np.linspace(10, 190, 500)\n",
    "x2 = np.linspace(5, 20, 100)\n",
    "\n",
    "Income, Education = np.meshgrid(x1, x2)\n",
    "X_3d = np.array([Income.flatten(), Education.flatten()]).T\n",
    "X_3d"
   ]
  },
  {
   "cell_type": "code",
   "execution_count": null,
   "id": "c3780201",
   "metadata": {},
   "outputs": [],
   "source": [
    "preds_3d = reg_2f.predict(X_3d)\n",
    "\n",
    "plt.style.use('default')\n",
    "\n",
    "fig = plt.figure(figsize=(12, 4))\n",
    "\n",
    "ax = fig.add_subplot(131, projection='3d')\n",
    "\n",
    "ax.plot(X['Income'], X['Education'], y, color='k', zorder=15, linestyle='none', marker='o', alpha=0.5)\n",
    "ax.scatter(Income.flatten(), Education.flatten(), preds_3d, facecolor=(0,0,0,0), s=20, edgecolor='#70b3f0')\n",
    "ax.set_xlabel('Inncome', fontsize=12)\n",
    "ax.set_ylabel('Education', fontsize=12)\n",
    "ax.set_zlabel('Balance', fontsize=12)\n",
    "ax.locator_params(nbins=4, axis='x')\n",
    "ax.locator_params(nbins=5, axis='x')\n",
    "\n",
    "ax.text2D(0.2, 0.32, 'aegis4048.github.io', fontsize=13, ha='center', va='center',\n",
    "           transform=ax.transAxes, color='grey', alpha=0.5)\n",
    "\n",
    "ax.view_init(elev=27, azim=112)\n",
    "\n",
    "fig.tight_layout()"
   ]
  },
  {
   "cell_type": "code",
   "execution_count": null,
   "id": "f3148513",
   "metadata": {},
   "outputs": [],
   "source": [
    "features = ['Income', 'Limit', 'Rating', 'Cards', 'Age', 'Education']\n",
    "target = 'Balance'\n",
    "\n",
    "X = Credit[features].values.reshape(-1, len(features))\n",
    "y = Credit[target].values\n",
    "\n",
    "reg = LinearRegression()\n",
    "model = reg.fit(X, y)\n",
    "\n",
    "print('Features                :  %s' % features)\n",
    "print('Regression Coefficients : ', [round(item, 2) for item in reg.coef_])\n",
    "print('R-squared               :  %.2f' % reg.score(X, y))\n",
    "print('Y-intercept             :  %.2f' % reg.intercept_)"
   ]
  },
  {
   "cell_type": "code",
   "execution_count": null,
   "id": "4761c9e4",
   "metadata": {},
   "outputs": [],
   "source": [
    "features = ['Limit', 'Rating', 'Income', 'Cards', 'Age', 'Education']\n",
    "target = 'Balance'\n",
    "\n",
    "X = Credit[features].values.reshape(-1, len(features))\n",
    "y = Credit[target].values\n",
    "\n",
    "reg = LinearRegression()\n",
    "model = reg.fit(X, y)\n",
    "\n",
    "print('Model 1: all Rating, Limit, and Income are in:')\n",
    "print('Features                :  %s' % features)\n",
    "print('Regression Coefficients : ', [round(item, 2) for item in reg.coef_])\n",
    "print('R-squared               :  %.2f' % reg.score(X, y))\n",
    "print('Y-intercept             :  %.2f' % reg.intercept_)\n",
    "print(' ')\n",
    "\n",
    "features = ['Limit', 'Rating', 'Cards', 'Age', 'Education']\n",
    "target = 'Balance'\n",
    "\n",
    "X = Credit[features].values.reshape(-1, len(features))\n",
    "y = Credit[target].values\n",
    "\n",
    "reg = LinearRegression()\n",
    "model = reg.fit(X, y)\n",
    "\n",
    "print('Model 2: only Limit and Rating are in:')\n",
    "print('Features                :  %s' % features)\n",
    "print('Regression Coefficients : ', [round(item, 2) for item in reg.coef_])\n",
    "print('R-squared               :  %.2f' % reg.score(X, y))\n",
    "print('Y-intercept             :  %.2f' % reg.intercept_)\n",
    "print(' ')\n",
    "\n",
    "features = ['Limit', 'Cards', 'Age', 'Education']\n",
    "target = 'Balance'\n",
    "\n",
    "X = Credit[features].values.reshape(-1, len(features))\n",
    "y = Credit[target].values\n",
    "\n",
    "reg = LinearRegression()\n",
    "model = reg.fit(X, y)\n",
    "\n",
    "print('Model 3: only Limit is in:')\n",
    "print('Features                :  %s' % features)\n",
    "print('Regression Coefficients : ', [round(item, 2) for item in reg.coef_])\n",
    "print('R-squared               :  %.2f' % reg.score(X, y))\n",
    "print('Y-intercept             :  %.2f' % reg.intercept_)"
   ]
  },
  {
   "cell_type": "code",
   "execution_count": null,
   "id": "f42d0e07",
   "metadata": {},
   "outputs": [],
   "source": []
  }
 ],
 "metadata": {
  "kernelspec": {
   "display_name": "Python 3 (ipykernel)",
   "language": "python",
   "name": "python3"
  },
  "language_info": {
   "codemirror_mode": {
    "name": "ipython",
    "version": 3
   },
   "file_extension": ".py",
   "mimetype": "text/x-python",
   "name": "python",
   "nbconvert_exporter": "python",
   "pygments_lexer": "ipython3",
   "version": "3.8.10"
  }
 },
 "nbformat": 4,
 "nbformat_minor": 5
}
