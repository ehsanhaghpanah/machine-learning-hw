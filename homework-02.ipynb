{
 "cells": [
  {
   "cell_type": "code",
   "execution_count": null,
   "metadata": {},
   "outputs": [],
   "source": [
    "import pandas as pa\n",
    "import os\n",
    "import inspect\n",
    "\n",
    "from sklearn.preprocessing import StandardScaler\n",
    "from sklearn.model_selection import train_test_split\n",
    "\n",
    "try:\n",
    "     path: str = os.getcwd() + '\\\\data\\\\bitcoin-dataset.xlsx'\n",
    "     dataSet: pa.DataFrame = pa.read_excel(path)\n",
    "\n",
    "     # {Date} field must be removed because of {StandardScaler}\n",
    "     X = dataSet.drop(['Date'], axis= 1)\n",
    "\n",
    "     # defining dependent variable and independent variables (vector)\n",
    "     yName = 'Bitcoin Market Price USD' \n",
    "     y = X[yName]\n",
    "     # X is a vector so it is in capital\n",
    "     X = X.drop([yName], axis= 1)\n",
    "\n",
    "     # splitting (or folding !?) into {traing set} and {validation set}\n",
    "     # NOTE: \n",
    "     X_train, X_test, y_train, y_test = train_test_split(X, y, test_size= 0.5, random_state= 1)\n",
    "\n",
    "     # normalization and standardization\n",
    "     # NOTE: standardization is applied on train set, \n",
    "     # neither the whole data-set nor the test-set\n",
    "     scaler = StandardScaler().fit(X_train)\n",
    "     X_train_stan = scaler.transform(X_train)\n",
    "     X_test_stan  = scaler.transform(X_test)\n",
    "\n",
    "     # output (1)\n",
    "     print(f'X Standard Train Set Shape: Features Count = {X_train_stan.shape[1]}, Samples Count = {X_train_stan.shape[0]}')\n",
    "     print(f'X Standard Test Set Shape:  Features Count = {X_train_stan.shape[1]}, Samples Count = {X_train_stan.shape[0]}')\n",
    "\n",
    "except Exception as p:\n",
    "     print(f'error {inspect.stack()[0][3]}, -> {p.args}')\n",
    "     pass"
   ]
  },
  {
   "cell_type": "code",
   "execution_count": null,
   "metadata": {},
   "outputs": [],
   "source": []
  }
 ],
 "metadata": {
  "kernelspec": {
   "display_name": "Python 3",
   "language": "python",
   "name": "python3"
  },
  "language_info": {
   "codemirror_mode": {
    "name": "ipython",
    "version": 3
   },
   "file_extension": ".py",
   "mimetype": "text/x-python",
   "name": "python",
   "nbconvert_exporter": "python",
   "pygments_lexer": "ipython3",
   "version": "3.11.0"
  },
  "orig_nbformat": 4
 },
 "nbformat": 4,
 "nbformat_minor": 2
}
