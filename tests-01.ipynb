{
 "cells": [
  {
   "cell_type": "code",
   "execution_count": null,
   "metadata": {},
   "outputs": [],
   "source": [
    "import pandas as pa\n",
    "import os\n",
    "import inspect\n",
    "from IPython.display import display\n",
    "\n",
    "try:\n",
    "     path: str = os.getcwd() + '\\\\data\\\\bitcoin-dataset.xlsx'\n",
    "     df = pa.read_excel(path)\n",
    "     df['Daily Return'] = df['Bitcoin Market Price USD'].pct_change()\n",
    "     # display(df)\n",
    "     \n",
    "     print(df['Daily Return'].max())\n",
    "     print(df['Daily Return'].min())\n",
    "          \n",
    "except Exception as p:\n",
    "     print(f'error {inspect.stack()[0][3]}, -> {p.args}')\n",
    "     pass"
   ]
  },
  {
   "cell_type": "code",
   "execution_count": null,
   "metadata": {},
   "outputs": [],
   "source": [
    "import pandas as pa\n",
    "import numpy as np\n",
    "import seaborn as sb\n",
    "import matplotlib.pyplot as pl\n",
    "import inspect\n",
    "import os\n",
    "from sklearn.feature_selection import SelectKBest, f_regression\n",
    "\n",
    "try:\n",
    "     path: str = os.getcwd() + '\\\\data\\\\bitcoin-dataset.xlsx'\n",
    "     df = pa.read_excel(path)\n",
    "\n",
    "     # df['Daily Return'] = df['Bitcoin Market Price USD'].pct_change()\n",
    "     # sb.displot(df['Daily Return'])\n",
    "\n",
    "     # defining dependent variable and independent variables\n",
    "     yName = 'Bitcoin Market Price USD' \n",
    "     y = df[yName]\n",
    "     X = df.drop([yName], axis= 1)\n",
    "\n",
    "     # data normalization\n",
    "     X = (X - X.min()) / (X.max() - X.min())\n",
    "\n",
    "     X = SelectKBest(f_regression, k= 5).fit_transform(X, y)\n",
    "\n",
    "\n",
    "\n",
    "except Exception as p:\n",
    "     print(f'error {inspect.stack()[0][3]}, -> {p.args}')\n",
    "     pass"
   ]
  }
 ],
 "metadata": {
  "kernelspec": {
   "display_name": "Python 3",
   "language": "python",
   "name": "python3"
  },
  "language_info": {
   "codemirror_mode": {
    "name": "ipython",
    "version": 3
   },
   "file_extension": ".py",
   "mimetype": "text/x-python",
   "name": "python",
   "nbconvert_exporter": "python",
   "pygments_lexer": "ipython3",
   "version": "3.11.0"
  },
  "orig_nbformat": 4,
  "vscode": {
   "interpreter": {
    "hash": "ff4b1fca65a764b45acb559e482afe389d289dd599b9f8c5fd12ff5c2ea46a65"
   }
  }
 },
 "nbformat": 4,
 "nbformat_minor": 2
}
