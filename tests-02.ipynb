{
 "cells": [
  {
   "attachments": {},
   "cell_type": "markdown",
   "metadata": {},
   "source": [
    "# Feature Selection (Homework)\n",
    "\n",
    "the procedure is as follows;\n",
    "1. loading the data set\n",
    "2. "
   ]
  },
  {
   "cell_type": "code",
   "execution_count": 23,
   "metadata": {},
   "outputs": [],
   "source": [
    "import pandas as pa\n",
    "import numpy as np\n",
    "import seaborn as sb\n",
    "import matplotlib.pyplot as pl\n",
    "import inspect\n",
    "import os\n",
    "from sklearn.feature_selection import SelectKBest, f_regression\n",
    "from sklearn.model_selection import train_test_split\n",
    "\n",
    "try:\n",
    "     path: str = os.getcwd() + '\\\\data\\\\bitcoin-dataset.xlsx'\n",
    "     data = pa.read_excel(path)\n",
    "\n",
    "     # display(data)\n",
    "\n",
    "     # data['Daily Return'] = data['Bitcoin Market Price USD'].pct_change()\n",
    "     # sb.displot(data['Daily Return'])\n",
    "\n",
    "     # defining dependent variable and independent variables (vector)\n",
    "     yName = 'Bitcoin Market Price USD' \n",
    "     y = data[yName]\n",
    "     X = data.drop([yName], axis= 1)    # X is a vector so it is in capital\n",
    "\n",
    "     # data normalization\n",
    "     X = (X - X.min()) / (X.max() - X.min())\n",
    "\n",
    "     # number of features {k} has been set\n",
    "     X = SelectKBest(f_regression, k= 5).fit_transform(X, y)\n",
    "\n",
    "     # splitting X\n",
    "     # splitting into {traing set} and {validation set}\n",
    "     X_train, X_test, y_train, y_test = train_test_split(X, y, test_size= 0.2, random_state= 1)\n",
    "\n",
    "except Exception as p:\n",
    "     print(f'error {inspect.stack()[0][3]}, -> {p.args}')\n",
    "     pass"
   ]
  },
  {
   "cell_type": "code",
   "execution_count": null,
   "metadata": {},
   "outputs": [],
   "source": [
    "from sklearn.linear_model import LinearRegression\n",
    "\n",
    "model: LinearRegression = LinearRegression().fit(X_train, y_train)\n",
    "\n",
    "print(f'beta0 = {model.intercept_}')\n",
    "print(f'beta* = {model.coef_}')\n",
    "\n",
    "score_train = model.score(X_train, y_train)\n",
    "score_test = model.score(X_test, y_test)\n",
    "\n",
    "print(f'score for trian set = {score_train}')\n",
    "print(f'score for test set  = {score_test}')"
   ]
  },
  {
   "cell_type": "code",
   "execution_count": null,
   "metadata": {},
   "outputs": [],
   "source": [
    "from sklearn.linear_model import Ridge\n",
    "\n",
    "model: Ridge = Ridge().fit(X_train, y_train)\n",
    "\n",
    "score_train = model.score(X_train, y_train)\n",
    "score_test = model.score(X_test, y_test)\n",
    "\n",
    "print(f'score for trian set = {score_train}')\n",
    "print(f'score for test set  = {score_test}')"
   ]
  }
 ],
 "metadata": {
  "kernelspec": {
   "display_name": "Python 3",
   "language": "python",
   "name": "python3"
  },
  "language_info": {
   "codemirror_mode": {
    "name": "ipython",
    "version": 3
   },
   "file_extension": ".py",
   "mimetype": "text/x-python",
   "name": "python",
   "nbconvert_exporter": "python",
   "pygments_lexer": "ipython3",
   "version": "3.11.0"
  },
  "orig_nbformat": 4,
  "vscode": {
   "interpreter": {
    "hash": "ff4b1fca65a764b45acb559e482afe389d289dd599b9f8c5fd12ff5c2ea46a65"
   }
  }
 },
 "nbformat": 4,
 "nbformat_minor": 2
}
