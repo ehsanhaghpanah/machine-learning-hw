{
 "cells": [
  {
   "cell_type": "code",
   "execution_count": null,
   "id": "d0276146",
   "metadata": {},
   "outputs": [],
   "source": [
    "import numpy as np\n",
    "import pandas as pd\n",
    "from sklearn.linear_model import LinearRegression\n",
    "from sklearn.metrics import mean_squared_error, r2_score\n",
    "import matplotlib.pyplot as plt\n",
    "import seaborn as sns"
   ]
  },
  {
   "cell_type": "code",
   "execution_count": null,
   "id": "faccedbc",
   "metadata": {},
   "outputs": [],
   "source": [
    "Credit = pd.read_csv('Credit.csv')\n",
    "\n",
    "Credit.head()\n",
    "     "
   ]
  },
  {
   "cell_type": "code",
   "execution_count": null,
   "id": "3a85eef0",
   "metadata": {},
   "outputs": [],
   "source": [
    "pd.plotting.scatter_matrix(Credit).get_plot()"
   ]
  },
  {
   "cell_type": "code",
   "execution_count": null,
   "id": "70e187cb",
   "metadata": {},
   "outputs": [],
   "source": [
    "\n",
    "sns.pairplot(Credit)"
   ]
  },
  {
   "cell_type": "code",
   "execution_count": null,
   "id": "0ea05732",
   "metadata": {},
   "outputs": [],
   "source": [
    "X = Credit[['Income']]\n",
    "y = Credit['Balance']\n",
    "reg = LinearRegression().fit(X, y)"
   ]
  },
  {
   "cell_type": "code",
   "execution_count": null,
   "id": "75341c24",
   "metadata": {},
   "outputs": [],
   "source": [
    "print('R^2: ' + str(reg.score(X, y) * 100))\n",
    "print('Intercept: ' + str(reg.intercept_))\n",
    "print('Slope: ' + str(reg.coef_))"
   ]
  },
  {
   "cell_type": "code",
   "execution_count": null,
   "id": "e1e1c1ee",
   "metadata": {},
   "outputs": [],
   "source": [
    "# Obtain prediction values\n",
    "preds = reg.predict(X)\n",
    "\n",
    "# The coefficients\n",
    "print(\"Coefficients: \\n\", reg.intercept_, reg.coef_)\n",
    "# The mean squared error\n",
    "print(\"Mean squared error: %.2f\" % mean_squared_error(y, preds))\n",
    "# The coefficient of determination: 1 is perfect prediction\n",
    "print(\"Coefficient of determination: %.2f\" % r2_score(y, preds))"
   ]
  },
  {
   "cell_type": "code",
   "execution_count": null,
   "id": "e09741df",
   "metadata": {},
   "outputs": [],
   "source": [
    "plt.scatter(X, y, color = \"black\")\n",
    "plt.plot(X, preds, color = \"blue\", linewidth = 3)\n",
    "plt.xticks(())\n",
    "plt.yticks(())\n",
    "plt.show()\n",
    "     "
   ]
  },
  {
   "cell_type": "code",
   "execution_count": null,
   "id": "5d8a96f8",
   "metadata": {},
   "outputs": [],
   "source": [
    "sns.regplot(x = \"Income\", y = \"Balance\", data = Credit)"
   ]
  }
 ],
 "metadata": {
  "kernelspec": {
   "display_name": "Python 3 (ipykernel)",
   "language": "python",
   "name": "python3"
  },
  "language_info": {
   "codemirror_mode": {
    "name": "ipython",
    "version": 3
   },
   "file_extension": ".py",
   "mimetype": "text/x-python",
   "name": "python",
   "nbconvert_exporter": "python",
   "pygments_lexer": "ipython3",
   "version": "3.8.10"
  }
 },
 "nbformat": 4,
 "nbformat_minor": 5
}
